{
 "cells": [
  {
   "cell_type": "markdown",
   "metadata": {},
   "source": [
    "# Pandas"
   ]
  },
  {
   "cell_type": "code",
   "execution_count": 1,
   "metadata": {
    "ExecuteTime": {
     "end_time": "2021-10-04T18:13:58.965275Z",
     "start_time": "2021-10-04T18:13:57.706487Z"
    }
   },
   "outputs": [],
   "source": [
    "import pandas as pd"
   ]
  },
  {
   "cell_type": "code",
   "execution_count": 2,
   "metadata": {
    "ExecuteTime": {
     "end_time": "2021-10-04T18:13:59.012199Z",
     "start_time": "2021-10-04T18:13:58.969230Z"
    }
   },
   "outputs": [
    {
     "data": {
      "text/plain": [
       "0       vanilla\n",
       "1     chocolate\n",
       "2    strawberry\n",
       "3        butter\n",
       "dtype: object"
      ]
     },
     "execution_count": 2,
     "metadata": {},
     "output_type": "execute_result"
    }
   ],
   "source": [
    "# Create a series from  a list\n",
    "ice_cream = ['vanilla','chocolate','strawberry','butter']\n",
    "pd.Series(ice_cream)"
   ]
  },
  {
   "cell_type": "code",
   "execution_count": 3,
   "metadata": {
    "ExecuteTime": {
     "end_time": "2021-10-04T18:13:59.137105Z",
     "start_time": "2021-10-04T18:13:59.018198Z"
    }
   },
   "outputs": [
    {
     "data": {
      "text/plain": [
       "Monday         vanilla\n",
       "Tuesday      chocolate\n",
       "Thursday    strawberry\n",
       "Friday          butter\n",
       "dtype: object"
      ]
     },
     "execution_count": 3,
     "metadata": {},
     "output_type": "execute_result"
    }
   ],
   "source": [
    "#Can change the indexes as you want\n",
    "ind = ['Monday','Tuesday','Thursday','Friday']\n",
    "pd.Series(data=ice_cream, index= ind)"
   ]
  },
  {
   "cell_type": "code",
   "execution_count": 4,
   "metadata": {
    "ExecuteTime": {
     "end_time": "2021-10-04T18:13:59.292655Z",
     "start_time": "2021-10-04T18:13:59.144099Z"
    }
   },
   "outputs": [
    {
     "data": {
      "text/plain": [
       "apple         fruit\n",
       "dog          animal\n",
       "carrot    vegitable\n",
       "dragon        fruit\n",
       "dtype: object"
      ]
     },
     "execution_count": 4,
     "metadata": {},
     "output_type": "execute_result"
    }
   ],
   "source": [
    "#Creating a series from the dictionary\n",
    "#Keys- Considered as indexes, values- Considered as the values\n",
    "d= {'apple': 'fruit',\n",
    "    'dog': 'animal',\n",
    "    'carrot': 'vegitable',\n",
    "    'dragon': 'fruit'\n",
    "   }\n",
    "new_series = pd.Series(d)\n",
    "new_series"
   ]
  },
  {
   "cell_type": "markdown",
   "metadata": {},
   "source": [
    "### Change the path of the import file"
   ]
  },
  {
   "cell_type": "code",
   "execution_count": 5,
   "metadata": {
    "ExecuteTime": {
     "end_time": "2021-10-04T18:13:59.433088Z",
     "start_time": "2021-10-04T18:13:59.297627Z"
    }
   },
   "outputs": [],
   "source": [
    "# Current directory- 'C:users/mani/python/data'\n",
    "#cd - change directory\n",
    "#../ one step up(immediate parent)- 'C:users/mani/python'\n",
    "#../..- 2 steps back- 'C:users'"
   ]
  },
  {
   "cell_type": "markdown",
   "metadata": {},
   "source": [
    "### importing a .csv file"
   ]
  },
  {
   "cell_type": "code",
   "execution_count": 6,
   "metadata": {
    "ExecuteTime": {
     "end_time": "2021-10-04T18:13:59.841807Z",
     "start_time": "2021-10-04T18:13:59.439085Z"
    }
   },
   "outputs": [
    {
     "data": {
      "text/html": [
       "<div>\n",
       "<style scoped>\n",
       "    .dataframe tbody tr th:only-of-type {\n",
       "        vertical-align: middle;\n",
       "    }\n",
       "\n",
       "    .dataframe tbody tr th {\n",
       "        vertical-align: top;\n",
       "    }\n",
       "\n",
       "    .dataframe thead th {\n",
       "        text-align: right;\n",
       "    }\n",
       "</style>\n",
       "<table border=\"1\" class=\"dataframe\">\n",
       "  <thead>\n",
       "    <tr style=\"text-align: right;\">\n",
       "      <th></th>\n",
       "      <th>Univ</th>\n",
       "      <th>State</th>\n",
       "      <th>SAT</th>\n",
       "      <th>Top10</th>\n",
       "      <th>Accept</th>\n",
       "      <th>SFRatio</th>\n",
       "      <th>Expenses</th>\n",
       "      <th>GradRate</th>\n",
       "    </tr>\n",
       "  </thead>\n",
       "  <tbody>\n",
       "    <tr>\n",
       "      <td>0</td>\n",
       "      <td>Brown</td>\n",
       "      <td>RI</td>\n",
       "      <td>1310</td>\n",
       "      <td>89</td>\n",
       "      <td>22</td>\n",
       "      <td>13</td>\n",
       "      <td>22,704</td>\n",
       "      <td>94</td>\n",
       "    </tr>\n",
       "    <tr>\n",
       "      <td>1</td>\n",
       "      <td>CalTech</td>\n",
       "      <td>CA</td>\n",
       "      <td>1415</td>\n",
       "      <td>100</td>\n",
       "      <td>25</td>\n",
       "      <td>6</td>\n",
       "      <td>63,575</td>\n",
       "      <td>81</td>\n",
       "    </tr>\n",
       "    <tr>\n",
       "      <td>2</td>\n",
       "      <td>CMU</td>\n",
       "      <td>PA</td>\n",
       "      <td>1260</td>\n",
       "      <td>62</td>\n",
       "      <td>59</td>\n",
       "      <td>9</td>\n",
       "      <td>25,026</td>\n",
       "      <td>72</td>\n",
       "    </tr>\n",
       "    <tr>\n",
       "      <td>3</td>\n",
       "      <td>Columbia</td>\n",
       "      <td>NY</td>\n",
       "      <td>1310</td>\n",
       "      <td>76</td>\n",
       "      <td>24</td>\n",
       "      <td>12</td>\n",
       "      <td>31,510</td>\n",
       "      <td>88</td>\n",
       "    </tr>\n",
       "    <tr>\n",
       "      <td>4</td>\n",
       "      <td>Cornell</td>\n",
       "      <td>NY</td>\n",
       "      <td>1280</td>\n",
       "      <td>83</td>\n",
       "      <td>33</td>\n",
       "      <td>13</td>\n",
       "      <td>21,864</td>\n",
       "      <td>90</td>\n",
       "    </tr>\n",
       "    <tr>\n",
       "      <td>5</td>\n",
       "      <td>Dartmouth</td>\n",
       "      <td>NH</td>\n",
       "      <td>1340</td>\n",
       "      <td>89</td>\n",
       "      <td>23</td>\n",
       "      <td>10</td>\n",
       "      <td>32,162</td>\n",
       "      <td>95</td>\n",
       "    </tr>\n",
       "    <tr>\n",
       "      <td>6</td>\n",
       "      <td>Duke</td>\n",
       "      <td>NC</td>\n",
       "      <td>1315</td>\n",
       "      <td>90</td>\n",
       "      <td>30</td>\n",
       "      <td>12</td>\n",
       "      <td>31,585</td>\n",
       "      <td>95</td>\n",
       "    </tr>\n",
       "    <tr>\n",
       "      <td>7</td>\n",
       "      <td>Georgetown</td>\n",
       "      <td>DC</td>\n",
       "      <td>1255</td>\n",
       "      <td>74</td>\n",
       "      <td>24</td>\n",
       "      <td>12</td>\n",
       "      <td>20,126</td>\n",
       "      <td>92</td>\n",
       "    </tr>\n",
       "    <tr>\n",
       "      <td>8</td>\n",
       "      <td>Harvard</td>\n",
       "      <td>MA</td>\n",
       "      <td>1400</td>\n",
       "      <td>91</td>\n",
       "      <td>14</td>\n",
       "      <td>11</td>\n",
       "      <td>39,525</td>\n",
       "      <td>97</td>\n",
       "    </tr>\n",
       "    <tr>\n",
       "      <td>9</td>\n",
       "      <td>JohnsHopkins</td>\n",
       "      <td>MD</td>\n",
       "      <td>1305</td>\n",
       "      <td>75</td>\n",
       "      <td>44</td>\n",
       "      <td>7</td>\n",
       "      <td>58,691</td>\n",
       "      <td>87</td>\n",
       "    </tr>\n",
       "    <tr>\n",
       "      <td>10</td>\n",
       "      <td>MIT</td>\n",
       "      <td>MA</td>\n",
       "      <td>1380</td>\n",
       "      <td>94</td>\n",
       "      <td>30</td>\n",
       "      <td>10</td>\n",
       "      <td>34,870</td>\n",
       "      <td>91</td>\n",
       "    </tr>\n",
       "    <tr>\n",
       "      <td>11</td>\n",
       "      <td>Northwestern</td>\n",
       "      <td>IL</td>\n",
       "      <td>1260</td>\n",
       "      <td>85</td>\n",
       "      <td>39</td>\n",
       "      <td>11</td>\n",
       "      <td>28,052</td>\n",
       "      <td>89</td>\n",
       "    </tr>\n",
       "    <tr>\n",
       "      <td>12</td>\n",
       "      <td>NotreDame</td>\n",
       "      <td>IN</td>\n",
       "      <td>1255</td>\n",
       "      <td>81</td>\n",
       "      <td>42</td>\n",
       "      <td>13</td>\n",
       "      <td>15,122</td>\n",
       "      <td>94</td>\n",
       "    </tr>\n",
       "    <tr>\n",
       "      <td>13</td>\n",
       "      <td>PennState</td>\n",
       "      <td>PA</td>\n",
       "      <td>1081</td>\n",
       "      <td>38</td>\n",
       "      <td>54</td>\n",
       "      <td>18</td>\n",
       "      <td>10,185</td>\n",
       "      <td>80</td>\n",
       "    </tr>\n",
       "    <tr>\n",
       "      <td>14</td>\n",
       "      <td>Princeton</td>\n",
       "      <td>NJ</td>\n",
       "      <td>1375</td>\n",
       "      <td>91</td>\n",
       "      <td>14</td>\n",
       "      <td>8</td>\n",
       "      <td>30,220</td>\n",
       "      <td>95</td>\n",
       "    </tr>\n",
       "    <tr>\n",
       "      <td>15</td>\n",
       "      <td>Purdue</td>\n",
       "      <td>IN</td>\n",
       "      <td>1005</td>\n",
       "      <td>28</td>\n",
       "      <td>90</td>\n",
       "      <td>19</td>\n",
       "      <td>9,066</td>\n",
       "      <td>69</td>\n",
       "    </tr>\n",
       "    <tr>\n",
       "      <td>16</td>\n",
       "      <td>Stanford</td>\n",
       "      <td>CA</td>\n",
       "      <td>1360</td>\n",
       "      <td>90</td>\n",
       "      <td>20</td>\n",
       "      <td>12</td>\n",
       "      <td>36,450</td>\n",
       "      <td>93</td>\n",
       "    </tr>\n",
       "    <tr>\n",
       "      <td>17</td>\n",
       "      <td>TexasA&amp;M</td>\n",
       "      <td>TX</td>\n",
       "      <td>1075</td>\n",
       "      <td>49</td>\n",
       "      <td>67</td>\n",
       "      <td>25</td>\n",
       "      <td>8,704</td>\n",
       "      <td>67</td>\n",
       "    </tr>\n",
       "    <tr>\n",
       "      <td>18</td>\n",
       "      <td>UCBerkeley</td>\n",
       "      <td>CA</td>\n",
       "      <td>1240</td>\n",
       "      <td>95</td>\n",
       "      <td>40</td>\n",
       "      <td>17</td>\n",
       "      <td>15,140</td>\n",
       "      <td>78</td>\n",
       "    </tr>\n",
       "    <tr>\n",
       "      <td>19</td>\n",
       "      <td>UChicago</td>\n",
       "      <td>IL</td>\n",
       "      <td>1290</td>\n",
       "      <td>75</td>\n",
       "      <td>50</td>\n",
       "      <td>13</td>\n",
       "      <td>38,380</td>\n",
       "      <td>87</td>\n",
       "    </tr>\n",
       "    <tr>\n",
       "      <td>20</td>\n",
       "      <td>UMichigan</td>\n",
       "      <td>MI</td>\n",
       "      <td>1180</td>\n",
       "      <td>65</td>\n",
       "      <td>68</td>\n",
       "      <td>16</td>\n",
       "      <td>15,470</td>\n",
       "      <td>85</td>\n",
       "    </tr>\n",
       "    <tr>\n",
       "      <td>21</td>\n",
       "      <td>UPenn</td>\n",
       "      <td>PA</td>\n",
       "      <td>1285</td>\n",
       "      <td>80</td>\n",
       "      <td>36</td>\n",
       "      <td>11</td>\n",
       "      <td>27,553</td>\n",
       "      <td>90</td>\n",
       "    </tr>\n",
       "    <tr>\n",
       "      <td>22</td>\n",
       "      <td>UVA</td>\n",
       "      <td>VA</td>\n",
       "      <td>1225</td>\n",
       "      <td>77</td>\n",
       "      <td>44</td>\n",
       "      <td>14</td>\n",
       "      <td>13,349</td>\n",
       "      <td>92</td>\n",
       "    </tr>\n",
       "    <tr>\n",
       "      <td>23</td>\n",
       "      <td>UWisconsin</td>\n",
       "      <td>WI</td>\n",
       "      <td>1085</td>\n",
       "      <td>40</td>\n",
       "      <td>69</td>\n",
       "      <td>15</td>\n",
       "      <td>11,857</td>\n",
       "      <td>71</td>\n",
       "    </tr>\n",
       "    <tr>\n",
       "      <td>24</td>\n",
       "      <td>Yale</td>\n",
       "      <td>CT</td>\n",
       "      <td>1375</td>\n",
       "      <td>95</td>\n",
       "      <td>19</td>\n",
       "      <td>11</td>\n",
       "      <td>43,514</td>\n",
       "      <td>96</td>\n",
       "    </tr>\n",
       "  </tbody>\n",
       "</table>\n",
       "</div>"
      ],
      "text/plain": [
       "            Univ State   SAT  Top10  Accept  SFRatio Expenses  GradRate\n",
       "0          Brown    RI  1310     89      22       13   22,704        94\n",
       "1        CalTech    CA  1415    100      25        6   63,575        81\n",
       "2            CMU    PA  1260     62      59        9   25,026        72\n",
       "3       Columbia    NY  1310     76      24       12   31,510        88\n",
       "4        Cornell    NY  1280     83      33       13   21,864        90\n",
       "5      Dartmouth    NH  1340     89      23       10   32,162        95\n",
       "6           Duke    NC  1315     90      30       12   31,585        95\n",
       "7     Georgetown    DC  1255     74      24       12   20,126        92\n",
       "8        Harvard    MA  1400     91      14       11   39,525        97\n",
       "9   JohnsHopkins    MD  1305     75      44        7   58,691        87\n",
       "10           MIT    MA  1380     94      30       10   34,870        91\n",
       "11  Northwestern    IL  1260     85      39       11   28,052        89\n",
       "12     NotreDame    IN  1255     81      42       13   15,122        94\n",
       "13     PennState    PA  1081     38      54       18   10,185        80\n",
       "14     Princeton    NJ  1375     91      14        8   30,220        95\n",
       "15        Purdue    IN  1005     28      90       19    9,066        69\n",
       "16      Stanford    CA  1360     90      20       12   36,450        93\n",
       "17      TexasA&M    TX  1075     49      67       25    8,704        67\n",
       "18    UCBerkeley    CA  1240     95      40       17   15,140        78\n",
       "19      UChicago    IL  1290     75      50       13   38,380        87\n",
       "20     UMichigan    MI  1180     65      68       16   15,470        85\n",
       "21         UPenn    PA  1285     80      36       11   27,553        90\n",
       "22           UVA    VA  1225     77      44       14   13,349        92\n",
       "23    UWisconsin    WI  1085     40      69       15   11,857        71\n",
       "24          Yale    CT  1375     95      19       11   43,514        96"
      ]
     },
     "execution_count": 6,
     "metadata": {},
     "output_type": "execute_result"
    }
   ],
   "source": [
    "univ= pd.read_csv('Universities.csv')\n",
    "univ"
   ]
  },
  {
   "cell_type": "code",
   "execution_count": 7,
   "metadata": {
    "ExecuteTime": {
     "end_time": "2021-10-04T18:13:59.873243Z",
     "start_time": "2021-10-04T18:13:59.848799Z"
    }
   },
   "outputs": [
    {
     "data": {
      "text/plain": [
       "pandas.core.frame.DataFrame"
      ]
     },
     "execution_count": 7,
     "metadata": {},
     "output_type": "execute_result"
    }
   ],
   "source": [
    "type(univ)"
   ]
  },
  {
   "cell_type": "code",
   "execution_count": 8,
   "metadata": {
    "ExecuteTime": {
     "end_time": "2021-10-04T18:13:59.998907Z",
     "start_time": "2021-10-04T18:13:59.881239Z"
    }
   },
   "outputs": [
    {
     "data": {
      "text/plain": [
       "0            Brown\n",
       "1          CalTech\n",
       "2              CMU\n",
       "3         Columbia\n",
       "4          Cornell\n",
       "5        Dartmouth\n",
       "6             Duke\n",
       "7       Georgetown\n",
       "8          Harvard\n",
       "9     JohnsHopkins\n",
       "10             MIT\n",
       "11    Northwestern\n",
       "12       NotreDame\n",
       "13       PennState\n",
       "14       Princeton\n",
       "15          Purdue\n",
       "16        Stanford\n",
       "17        TexasA&M\n",
       "18      UCBerkeley\n",
       "19        UChicago\n",
       "20       UMichigan\n",
       "21           UPenn\n",
       "22             UVA\n",
       "23      UWisconsin\n",
       "24            Yale\n",
       "Name: Univ, dtype: object"
      ]
     },
     "execution_count": 8,
     "metadata": {},
     "output_type": "execute_result"
    }
   ],
   "source": [
    "#to read all columns we can use above.\n",
    "#If you want to import a series use the following for any no of columns(mention column names in a list)(eg.usecols= ['Univ','State'])\n",
    "#we need to say squeeze = True, to import as a series, else even if you try to get one column, it cosider as data frame\n",
    "univ = pd.read_csv('Universities.csv', usecols=['Univ'], squeeze= True)\n",
    "univ"
   ]
  },
  {
   "cell_type": "code",
   "execution_count": 9,
   "metadata": {
    "ExecuteTime": {
     "end_time": "2021-10-04T18:14:00.155331Z",
     "start_time": "2021-10-04T18:14:00.002902Z"
    }
   },
   "outputs": [
    {
     "data": {
      "text/plain": [
       "pandas.core.series.Series"
      ]
     },
     "execution_count": 9,
     "metadata": {},
     "output_type": "execute_result"
    }
   ],
   "source": [
    "type(univ)"
   ]
  },
  {
   "cell_type": "code",
   "execution_count": 10,
   "metadata": {
    "ExecuteTime": {
     "end_time": "2021-10-04T18:14:00.343169Z",
     "start_time": "2021-10-04T18:14:00.160325Z"
    }
   },
   "outputs": [
    {
     "data": {
      "text/plain": [
       "{0: 'Brown',\n",
       " 1: 'CalTech',\n",
       " 2: 'CMU',\n",
       " 3: 'Columbia',\n",
       " 4: 'Cornell',\n",
       " 5: 'Dartmouth',\n",
       " 6: 'Duke',\n",
       " 7: 'Georgetown',\n",
       " 8: 'Harvard',\n",
       " 9: 'JohnsHopkins',\n",
       " 10: 'MIT',\n",
       " 11: 'Northwestern',\n",
       " 12: 'NotreDame',\n",
       " 13: 'PennState',\n",
       " 14: 'Princeton',\n",
       " 15: 'Purdue',\n",
       " 16: 'Stanford',\n",
       " 17: 'TexasA&M',\n",
       " 18: 'UCBerkeley',\n",
       " 19: 'UChicago',\n",
       " 20: 'UMichigan',\n",
       " 21: 'UPenn',\n",
       " 22: 'UVA',\n",
       " 23: 'UWisconsin',\n",
       " 24: 'Yale'}"
      ]
     },
     "execution_count": 10,
     "metadata": {},
     "output_type": "execute_result"
    }
   ],
   "source": [
    "d = dict(univ)\n",
    "d"
   ]
  },
  {
   "cell_type": "code",
   "execution_count": 11,
   "metadata": {
    "ExecuteTime": {
     "end_time": "2021-10-04T18:14:00.501618Z",
     "start_time": "2021-10-04T18:14:00.352163Z"
    }
   },
   "outputs": [
    {
     "data": {
      "text/plain": [
       "['Brown',\n",
       " 'CalTech',\n",
       " 'CMU',\n",
       " 'Columbia',\n",
       " 'Cornell',\n",
       " 'Dartmouth',\n",
       " 'Duke',\n",
       " 'Georgetown',\n",
       " 'Harvard',\n",
       " 'JohnsHopkins',\n",
       " 'MIT',\n",
       " 'Northwestern',\n",
       " 'NotreDame',\n",
       " 'PennState',\n",
       " 'Princeton',\n",
       " 'Purdue',\n",
       " 'Stanford',\n",
       " 'TexasA&M',\n",
       " 'UCBerkeley',\n",
       " 'UChicago',\n",
       " 'UMichigan',\n",
       " 'UPenn',\n",
       " 'UVA',\n",
       " 'UWisconsin',\n",
       " 'Yale']"
      ]
     },
     "execution_count": 11,
     "metadata": {},
     "output_type": "execute_result"
    }
   ],
   "source": [
    "l= list(univ)\n",
    "l"
   ]
  },
  {
   "cell_type": "code",
   "execution_count": 12,
   "metadata": {
    "ExecuteTime": {
     "end_time": "2021-10-04T18:14:00.657691Z",
     "start_time": "2021-10-04T18:14:00.509614Z"
    }
   },
   "outputs": [
    {
     "data": {
      "text/plain": [
       "array(['Brown', 'CalTech', 'CMU', 'Columbia', 'Cornell', 'Dartmouth',\n",
       "       'Duke', 'Georgetown', 'Harvard', 'JohnsHopkins', 'MIT',\n",
       "       'Northwestern', 'NotreDame', 'PennState', 'Princeton', 'Purdue',\n",
       "       'Stanford', 'TexasA&M', 'UCBerkeley', 'UChicago', 'UMichigan',\n",
       "       'UPenn', 'UVA', 'UWisconsin', 'Yale'], dtype=object)"
      ]
     },
     "execution_count": 12,
     "metadata": {},
     "output_type": "execute_result"
    }
   ],
   "source": [
    "#If you want see only the values\n",
    "univ.values"
   ]
  },
  {
   "cell_type": "code",
   "execution_count": 13,
   "metadata": {
    "ExecuteTime": {
     "end_time": "2021-10-04T18:14:00.845434Z",
     "start_time": "2021-10-04T18:14:00.668687Z"
    }
   },
   "outputs": [
    {
     "data": {
      "text/plain": [
       "Index(['apple', 'dog', 'carrot', 'dragon'], dtype='object')"
      ]
     },
     "execution_count": 13,
     "metadata": {},
     "output_type": "execute_result"
    }
   ],
   "source": [
    "#To know the indices\n",
    "new_series.index"
   ]
  },
  {
   "cell_type": "code",
   "execution_count": 14,
   "metadata": {
    "ExecuteTime": {
     "end_time": "2021-10-04T18:14:01.048537Z",
     "start_time": "2021-10-04T18:14:00.852430Z"
    }
   },
   "outputs": [
    {
     "data": {
      "text/plain": [
       "<bound method Series.unique of apple         fruit\n",
       "dog          animal\n",
       "carrot    vegitable\n",
       "dragon        fruit\n",
       "dtype: object>"
      ]
     },
     "execution_count": 14,
     "metadata": {},
     "output_type": "execute_result"
    }
   ],
   "source": [
    "new_series.unique"
   ]
  },
  {
   "cell_type": "code",
   "execution_count": 15,
   "metadata": {
    "ExecuteTime": {
     "end_time": "2021-10-04T18:14:01.205597Z",
     "start_time": "2021-10-04T18:14:01.059727Z"
    }
   },
   "outputs": [
    {
     "data": {
      "text/plain": [
       "False"
      ]
     },
     "execution_count": 15,
     "metadata": {},
     "output_type": "execute_result"
    }
   ],
   "source": [
    "new_series.is_unique"
   ]
  },
  {
   "cell_type": "code",
   "execution_count": 16,
   "metadata": {
    "ExecuteTime": {
     "end_time": "2021-10-04T18:14:01.362013Z",
     "start_time": "2021-10-04T18:14:01.211591Z"
    }
   },
   "outputs": [
    {
     "data": {
      "text/plain": [
       "4"
      ]
     },
     "execution_count": 16,
     "metadata": {},
     "output_type": "execute_result"
    }
   ],
   "source": [
    "new_series.size"
   ]
  },
  {
   "cell_type": "markdown",
   "metadata": {
    "ExecuteTime": {
     "end_time": "2021-10-03T21:27:18.965156Z",
     "start_time": "2021-10-03T21:27:18.959160Z"
    }
   },
   "source": [
    "### Methods in series"
   ]
  },
  {
   "cell_type": "code",
   "execution_count": 17,
   "metadata": {
    "ExecuteTime": {
     "end_time": "2021-10-04T18:14:01.579734Z",
     "start_time": "2021-10-04T18:14:01.368009Z"
    }
   },
   "outputs": [
    {
     "data": {
      "text/plain": [
       "0       Brown\n",
       "1     CalTech\n",
       "2         CMU\n",
       "3    Columbia\n",
       "4     Cornell\n",
       "Name: Univ, dtype: object"
      ]
     },
     "execution_count": 17,
     "metadata": {},
     "output_type": "execute_result"
    }
   ],
   "source": [
    "#Can see first n no of rows or last \n",
    "univ.head(5)"
   ]
  },
  {
   "cell_type": "code",
   "execution_count": 18,
   "metadata": {
    "ExecuteTime": {
     "end_time": "2021-10-04T18:14:01.844826Z",
     "start_time": "2021-10-04T18:14:01.587724Z"
    }
   },
   "outputs": [
    {
     "data": {
      "text/plain": [
       "20     UMichigan\n",
       "21         UPenn\n",
       "22           UVA\n",
       "23    UWisconsin\n",
       "24          Yale\n",
       "Name: Univ, dtype: object"
      ]
     },
     "execution_count": 18,
     "metadata": {},
     "output_type": "execute_result"
    }
   ],
   "source": [
    "univ.tail(5)"
   ]
  },
  {
   "cell_type": "code",
   "execution_count": 19,
   "metadata": {
    "ExecuteTime": {
     "end_time": "2021-10-04T18:14:01.983797Z",
     "start_time": "2021-10-04T18:14:01.850819Z"
    }
   },
   "outputs": [
    {
     "data": {
      "text/plain": [
       "apple         fruit\n",
       "carrot    vegitable\n",
       "dog          animal\n",
       "dragon        fruit\n",
       "dtype: object"
      ]
     },
     "execution_count": 19,
     "metadata": {},
     "output_type": "execute_result"
    }
   ],
   "source": [
    "#Sorting a Series\n",
    "new_series.sort_index()"
   ]
  },
  {
   "cell_type": "code",
   "execution_count": 20,
   "metadata": {
    "ExecuteTime": {
     "end_time": "2021-10-04T18:14:02.094650Z",
     "start_time": "2021-10-04T18:14:01.988790Z"
    }
   },
   "outputs": [
    {
     "data": {
      "text/plain": [
       "dog          animal\n",
       "apple         fruit\n",
       "dragon        fruit\n",
       "carrot    vegitable\n",
       "dtype: object"
      ]
     },
     "execution_count": 20,
     "metadata": {},
     "output_type": "execute_result"
    }
   ],
   "source": [
    "new_series.sort_values()"
   ]
  },
  {
   "cell_type": "code",
   "execution_count": 21,
   "metadata": {
    "ExecuteTime": {
     "end_time": "2021-10-04T18:14:02.296835Z",
     "start_time": "2021-10-04T18:14:02.102643Z"
    }
   },
   "outputs": [
    {
     "data": {
      "text/plain": [
       "dragon        fruit\n",
       "dog          animal\n",
       "carrot    vegitable\n",
       "apple         fruit\n",
       "dtype: object"
      ]
     },
     "execution_count": 21,
     "metadata": {},
     "output_type": "execute_result"
    }
   ],
   "source": [
    "new_series.sort_index(ascending=False)"
   ]
  },
  {
   "cell_type": "code",
   "execution_count": 22,
   "metadata": {
    "ExecuteTime": {
     "end_time": "2021-10-04T18:14:02.423760Z",
     "start_time": "2021-10-04T18:14:02.307831Z"
    }
   },
   "outputs": [
    {
     "data": {
      "text/plain": [
       "True"
      ]
     },
     "execution_count": 22,
     "metadata": {},
     "output_type": "execute_result"
    }
   ],
   "source": [
    "'apple'in new_series.index"
   ]
  },
  {
   "cell_type": "markdown",
   "metadata": {},
   "source": [
    "## Access element"
   ]
  },
  {
   "cell_type": "code",
   "execution_count": 23,
   "metadata": {
    "ExecuteTime": {
     "end_time": "2021-10-04T18:20:27.719829Z",
     "start_time": "2021-10-04T18:20:27.705837Z"
    }
   },
   "outputs": [
    {
     "data": {
      "text/plain": [
       "'CalTech'"
      ]
     },
     "execution_count": 23,
     "metadata": {},
     "output_type": "execute_result"
    }
   ],
   "source": [
    "univ[1]"
   ]
  },
  {
   "cell_type": "code",
   "execution_count": 24,
   "metadata": {
    "ExecuteTime": {
     "end_time": "2021-10-04T18:21:14.276502Z",
     "start_time": "2021-10-04T18:21:14.258510Z"
    }
   },
   "outputs": [
    {
     "data": {
      "text/plain": [
       "1      CalTech\n",
       "3     Columbia\n",
       "5    Dartmouth\n",
       "Name: Univ, dtype: object"
      ]
     },
     "execution_count": 24,
     "metadata": {},
     "output_type": "execute_result"
    }
   ],
   "source": [
    "univ[[1,3,5]]"
   ]
  },
  {
   "cell_type": "code",
   "execution_count": 27,
   "metadata": {
    "ExecuteTime": {
     "end_time": "2021-10-04T18:21:55.302086Z",
     "start_time": "2021-10-04T18:21:55.281098Z"
    }
   },
   "outputs": [
    {
     "data": {
      "text/plain": [
       "4       Cornell\n",
       "6          Duke\n",
       "8       Harvard\n",
       "10          MIT\n",
       "12    NotreDame\n",
       "14    Princeton\n",
       "16     Stanford\n",
       "Name: Univ, dtype: object"
      ]
     },
     "execution_count": 27,
     "metadata": {},
     "output_type": "execute_result"
    }
   ],
   "source": [
    "univ[4:17:2]"
   ]
  },
  {
   "cell_type": "code",
   "execution_count": 28,
   "metadata": {
    "ExecuteTime": {
     "end_time": "2021-10-04T18:22:29.614799Z",
     "start_time": "2021-10-04T18:22:29.600810Z"
    }
   },
   "outputs": [
    {
     "data": {
      "text/plain": [
       "'fruit'"
      ]
     },
     "execution_count": 28,
     "metadata": {},
     "output_type": "execute_result"
    }
   ],
   "source": [
    "#fetch using name\n",
    "new_series['apple']"
   ]
  },
  {
   "cell_type": "code",
   "execution_count": 50,
   "metadata": {
    "ExecuteTime": {
     "end_time": "2021-10-04T18:30:41.041657Z",
     "start_time": "2021-10-04T18:30:41.021671Z"
    }
   },
   "outputs": [
    {
     "data": {
      "text/plain": [
       "'fruit'"
      ]
     },
     "execution_count": 50,
     "metadata": {},
     "output_type": "execute_result"
    }
   ],
   "source": [
    "new_series.get(key='apple')"
   ]
  },
  {
   "cell_type": "code",
   "execution_count": 33,
   "metadata": {
    "ExecuteTime": {
     "end_time": "2021-10-04T18:25:53.928413Z",
     "start_time": "2021-10-04T18:25:53.911422Z"
    }
   },
   "outputs": [
    {
     "data": {
      "text/plain": [
       "'Nothing found'"
      ]
     },
     "execution_count": 33,
     "metadata": {},
     "output_type": "execute_result"
    }
   ],
   "source": [
    "new_series.get(key= 'E',default= 'Nothing found')"
   ]
  },
  {
   "cell_type": "code",
   "execution_count": 53,
   "metadata": {
    "ExecuteTime": {
     "end_time": "2021-10-04T18:47:51.644423Z",
     "start_time": "2021-10-04T18:47:51.615443Z"
    }
   },
   "outputs": [
    {
     "data": {
      "text/plain": [
       "0    50.12\n",
       "1    54.10\n",
       "2    54.65\n",
       "3    52.38\n",
       "4    52.95\n",
       "Name: Stock Price, dtype: float64"
      ]
     },
     "execution_count": 53,
     "metadata": {},
     "output_type": "execute_result"
    }
   ],
   "source": [
    "google = pd.read_csv('Google_Stock_Price.csv',squeeze=True)\n",
    "google.head()"
   ]
  },
  {
   "cell_type": "code",
   "execution_count": 54,
   "metadata": {
    "ExecuteTime": {
     "end_time": "2021-10-04T18:48:12.608806Z",
     "start_time": "2021-10-04T18:48:12.587816Z"
    }
   },
   "outputs": [
    {
     "data": {
      "text/plain": [
       "3012"
      ]
     },
     "execution_count": 54,
     "metadata": {},
     "output_type": "execute_result"
    }
   ],
   "source": [
    "google.count()"
   ]
  },
  {
   "cell_type": "code",
   "execution_count": 70,
   "metadata": {
    "ExecuteTime": {
     "end_time": "2021-10-04T18:54:32.819606Z",
     "start_time": "2021-10-04T18:54:32.799617Z"
    }
   },
   "outputs": [],
   "source": [
    "num_ser = pd.Series([10,20,30,40,30])"
   ]
  },
  {
   "cell_type": "code",
   "execution_count": 58,
   "metadata": {
    "ExecuteTime": {
     "end_time": "2021-10-04T18:50:57.879413Z",
     "start_time": "2021-10-04T18:50:57.857425Z"
    }
   },
   "outputs": [
    {
     "data": {
      "text/plain": [
       "100"
      ]
     },
     "execution_count": 58,
     "metadata": {},
     "output_type": "execute_result"
    }
   ],
   "source": [
    "num_ser.sum()"
   ]
  },
  {
   "cell_type": "code",
   "execution_count": 59,
   "metadata": {
    "ExecuteTime": {
     "end_time": "2021-10-04T18:51:12.848269Z",
     "start_time": "2021-10-04T18:51:12.833276Z"
    }
   },
   "outputs": [
    {
     "data": {
      "text/plain": [
       "10"
      ]
     },
     "execution_count": 59,
     "metadata": {},
     "output_type": "execute_result"
    }
   ],
   "source": [
    "num_ser.min()"
   ]
  },
  {
   "cell_type": "code",
   "execution_count": 60,
   "metadata": {
    "ExecuteTime": {
     "end_time": "2021-10-04T18:51:26.019464Z",
     "start_time": "2021-10-04T18:51:26.010186Z"
    }
   },
   "outputs": [
    {
     "data": {
      "text/plain": [
       "40"
      ]
     },
     "execution_count": 60,
     "metadata": {},
     "output_type": "execute_result"
    }
   ],
   "source": [
    "num_ser.max()"
   ]
  },
  {
   "cell_type": "code",
   "execution_count": 61,
   "metadata": {
    "ExecuteTime": {
     "end_time": "2021-10-04T18:51:58.419449Z",
     "start_time": "2021-10-04T18:51:58.401458Z"
    }
   },
   "outputs": [
    {
     "data": {
      "text/plain": [
       "12.909944487358056"
      ]
     },
     "execution_count": 61,
     "metadata": {},
     "output_type": "execute_result"
    }
   ],
   "source": [
    "num_ser.std()"
   ]
  },
  {
   "cell_type": "code",
   "execution_count": 63,
   "metadata": {
    "ExecuteTime": {
     "end_time": "2021-10-04T18:52:44.058520Z",
     "start_time": "2021-10-04T18:52:44.042527Z"
    }
   },
   "outputs": [
    {
     "data": {
      "text/plain": [
       "0"
      ]
     },
     "execution_count": 63,
     "metadata": {},
     "output_type": "execute_result"
    }
   ],
   "source": [
    "#Location of min value and max value_index\n",
    "num_ser.idxmin()"
   ]
  },
  {
   "cell_type": "code",
   "execution_count": 65,
   "metadata": {
    "ExecuteTime": {
     "end_time": "2021-10-04T18:52:59.099669Z",
     "start_time": "2021-10-04T18:52:59.081680Z"
    }
   },
   "outputs": [
    {
     "data": {
      "text/plain": [
       "3"
      ]
     },
     "execution_count": 65,
     "metadata": {},
     "output_type": "execute_result"
    }
   ],
   "source": [
    "num_ser.idxmax()"
   ]
  },
  {
   "cell_type": "code",
   "execution_count": 66,
   "metadata": {
    "ExecuteTime": {
     "end_time": "2021-10-04T18:53:17.774234Z",
     "start_time": "2021-10-04T18:53:17.753245Z"
    }
   },
   "outputs": [
    {
     "data": {
      "text/plain": [
       "25.0"
      ]
     },
     "execution_count": 66,
     "metadata": {},
     "output_type": "execute_result"
    }
   ],
   "source": [
    "num_ser.mean()"
   ]
  },
  {
   "cell_type": "code",
   "execution_count": 72,
   "metadata": {
    "ExecuteTime": {
     "end_time": "2021-10-04T18:54:52.526718Z",
     "start_time": "2021-10-04T18:54:52.516725Z"
    }
   },
   "outputs": [
    {
     "data": {
      "text/plain": [
       "30.0"
      ]
     },
     "execution_count": 72,
     "metadata": {},
     "output_type": "execute_result"
    }
   ],
   "source": [
    "num_ser.median()"
   ]
  },
  {
   "cell_type": "code",
   "execution_count": 71,
   "metadata": {
    "ExecuteTime": {
     "end_time": "2021-10-04T18:54:36.011581Z",
     "start_time": "2021-10-04T18:54:35.999586Z"
    }
   },
   "outputs": [
    {
     "data": {
      "text/plain": [
       "0    30\n",
       "dtype: int64"
      ]
     },
     "execution_count": 71,
     "metadata": {},
     "output_type": "execute_result"
    }
   ],
   "source": [
    "num_ser.mode()"
   ]
  },
  {
   "cell_type": "code",
   "execution_count": 73,
   "metadata": {
    "ExecuteTime": {
     "end_time": "2021-10-04T18:55:10.402289Z",
     "start_time": "2021-10-04T18:55:10.383300Z"
    }
   },
   "outputs": [
    {
     "data": {
      "text/plain": [
       "count     5.000000\n",
       "mean     26.000000\n",
       "std      11.401754\n",
       "min      10.000000\n",
       "25%      20.000000\n",
       "50%      30.000000\n",
       "75%      30.000000\n",
       "max      40.000000\n",
       "dtype: float64"
      ]
     },
     "execution_count": 73,
     "metadata": {},
     "output_type": "execute_result"
    }
   ],
   "source": [
    "num_ser.describe()"
   ]
  },
  {
   "cell_type": "code",
   "execution_count": 74,
   "metadata": {
    "ExecuteTime": {
     "end_time": "2021-10-04T18:58:12.274755Z",
     "start_time": "2021-10-04T18:58:12.254765Z"
    }
   },
   "outputs": [
    {
     "data": {
      "text/plain": [
       "30    2\n",
       "20    1\n",
       "10    1\n",
       "40    1\n",
       "dtype: int64"
      ]
     },
     "execution_count": 74,
     "metadata": {},
     "output_type": "execute_result"
    }
   ],
   "source": [
    "#count of a vlaue, no of times a vlaue occur\n",
    "num_ser.value_counts()"
   ]
  },
  {
   "cell_type": "markdown",
   "metadata": {},
   "source": [
    "## Writing a user defined function"
   ]
  },
  {
   "cell_type": "code",
   "execution_count": 76,
   "metadata": {
    "ExecuteTime": {
     "end_time": "2021-10-04T19:11:43.968562Z",
     "start_time": "2021-10-04T19:11:43.952312Z"
    }
   },
   "outputs": [],
   "source": [
    "def greet(name):\n",
    "    print(f'hello {name}, good morning!')"
   ]
  },
  {
   "cell_type": "code",
   "execution_count": 80,
   "metadata": {
    "ExecuteTime": {
     "end_time": "2021-10-04T19:12:35.927600Z",
     "start_time": "2021-10-04T19:12:35.920604Z"
    }
   },
   "outputs": [
    {
     "name": "stdout",
     "output_type": "stream",
     "text": [
      "hello Mani, good morning!\n"
     ]
    }
   ],
   "source": [
    "greet('Mani')"
   ]
  },
  {
   "cell_type": "code",
   "execution_count": 86,
   "metadata": {
    "ExecuteTime": {
     "end_time": "2021-10-04T19:14:23.581508Z",
     "start_time": "2021-10-04T19:14:23.566519Z"
    }
   },
   "outputs": [],
   "source": [
    "def add_num(a,b):\n",
    "    return a+b"
   ]
  },
  {
   "cell_type": "code",
   "execution_count": 87,
   "metadata": {
    "ExecuteTime": {
     "end_time": "2021-10-04T19:14:26.045535Z",
     "start_time": "2021-10-04T19:14:26.030542Z"
    }
   },
   "outputs": [
    {
     "data": {
      "text/plain": [
       "5"
      ]
     },
     "execution_count": 87,
     "metadata": {},
     "output_type": "execute_result"
    }
   ],
   "source": [
    "add_num(2,3)"
   ]
  },
  {
   "cell_type": "markdown",
   "metadata": {},
   "source": [
    "## Diff between print and return"
   ]
  },
  {
   "cell_type": "code",
   "execution_count": 93,
   "metadata": {
    "ExecuteTime": {
     "end_time": "2021-10-04T19:19:01.228545Z",
     "start_time": "2021-10-04T19:19:01.207557Z"
    }
   },
   "outputs": [
    {
     "name": "stdout",
     "output_type": "stream",
     "text": [
      "256\n"
     ]
    }
   ],
   "source": [
    "#Diffenece between print and return. We cannot store a print value and we can store a return value in avariable\n",
    "def my_func(x):\n",
    "    print(x**x)\n",
    "sq1= my_func(4)"
   ]
  },
  {
   "cell_type": "code",
   "execution_count": 90,
   "metadata": {
    "ExecuteTime": {
     "end_time": "2021-10-04T19:18:10.230980Z",
     "start_time": "2021-10-04T19:18:10.212990Z"
    }
   },
   "outputs": [],
   "source": [
    "#No value is stored, as we used print\n",
    "sq1"
   ]
  },
  {
   "cell_type": "code",
   "execution_count": 96,
   "metadata": {
    "ExecuteTime": {
     "end_time": "2021-10-04T19:19:16.648603Z",
     "start_time": "2021-10-04T19:19:16.635611Z"
    }
   },
   "outputs": [],
   "source": [
    "def my_func(x):\n",
    "    return(x**x)\n",
    "sq2= my_func(4)"
   ]
  },
  {
   "cell_type": "code",
   "execution_count": 98,
   "metadata": {
    "ExecuteTime": {
     "end_time": "2021-10-04T19:19:42.677896Z",
     "start_time": "2021-10-04T19:19:42.668901Z"
    }
   },
   "outputs": [
    {
     "data": {
      "text/plain": [
       "256"
      ]
     },
     "execution_count": 98,
     "metadata": {},
     "output_type": "execute_result"
    }
   ],
   "source": [
    "#Value is stored in the variable as we stored\n",
    "sq2"
   ]
  },
  {
   "cell_type": "markdown",
   "metadata": {},
   "source": [
    "## Giving a doc_string to a function or help"
   ]
  },
  {
   "cell_type": "code",
   "execution_count": 104,
   "metadata": {
    "ExecuteTime": {
     "end_time": "2021-10-04T19:28:49.069292Z",
     "start_time": "2021-10-04T19:28:49.057296Z"
    }
   },
   "outputs": [],
   "source": [
    "#giving a description of a function on hoe to use, basically providing a help for the user defined function\n",
    "def greet(name):\n",
    " \n",
    "    '''\n",
    "    prints a greeting\n",
    "    parameeters: \n",
    "        name: str\n",
    "    output:\n",
    "        none(prints a greeting with given name)\n",
    "    '''\n",
    "    print(f'hello {name}, good morning!')"
   ]
  },
  {
   "cell_type": "code",
   "execution_count": 105,
   "metadata": {
    "ExecuteTime": {
     "end_time": "2021-10-04T19:28:55.058230Z",
     "start_time": "2021-10-04T19:28:55.045240Z"
    }
   },
   "outputs": [
    {
     "name": "stdout",
     "output_type": "stream",
     "text": [
      "Help on function greet in module __main__:\n",
      "\n",
      "greet(name)\n",
      "    prints a greeting\n",
      "    parameeters: \n",
      "        name: str\n",
      "    output:\n",
      "        none(prints a greeting with given name)\n",
      "\n"
     ]
    }
   ],
   "source": [
    "help(greet)"
   ]
  },
  {
   "cell_type": "code",
   "execution_count": 119,
   "metadata": {
    "ExecuteTime": {
     "end_time": "2021-10-04T19:43:24.341628Z",
     "start_time": "2021-10-04T19:43:24.319639Z"
    }
   },
   "outputs": [],
   "source": [
    "def eval_stock(stock_price):\n",
    "    if stock_price <300:\n",
    "        result = 'Ok'\n",
    "    elif stock_price >=300 and stock_price <600:\n",
    "        result = 'satisfactory'\n",
    "    else:\n",
    "        result = 'awesome!'\n",
    "    return result"
   ]
  },
  {
   "cell_type": "code",
   "execution_count": 112,
   "metadata": {
    "ExecuteTime": {
     "end_time": "2021-10-04T19:37:36.795158Z",
     "start_time": "2021-10-04T19:37:36.780168Z"
    }
   },
   "outputs": [
    {
     "data": {
      "text/plain": [
       "0    Ok\n",
       "1    Ok\n",
       "2    Ok\n",
       "3    Ok\n",
       "4    Ok\n",
       "5    Ok\n",
       "6    Ok\n",
       "7    Ok\n",
       "8    Ok\n",
       "9    Ok\n",
       "Name: Stock Price, dtype: object"
      ]
     },
     "execution_count": 112,
     "metadata": {},
     "output_type": "execute_result"
    }
   ],
   "source": [
    "google.apply(eval_stock).head(10)"
   ]
  },
  {
   "cell_type": "code",
   "execution_count": 113,
   "metadata": {
    "ExecuteTime": {
     "end_time": "2021-10-04T19:38:06.568597Z",
     "start_time": "2021-10-04T19:38:06.554603Z"
    }
   },
   "outputs": [
    {
     "data": {
      "text/plain": [
       "3007    awesome!\n",
       "3008    awesome!\n",
       "3009    awesome!\n",
       "3010    awesome!\n",
       "3011    awesome!\n",
       "Name: Stock Price, dtype: object"
      ]
     },
     "execution_count": 113,
     "metadata": {},
     "output_type": "execute_result"
    }
   ],
   "source": [
    "google.apply(eval_stock).tail()"
   ]
  },
  {
   "cell_type": "code",
   "execution_count": 120,
   "metadata": {
    "ExecuteTime": {
     "end_time": "2021-10-04T19:43:29.780399Z",
     "start_time": "2021-10-04T19:43:29.752413Z"
    }
   },
   "outputs": [
    {
     "data": {
      "text/plain": [
       "Ok              1721\n",
       "satisfactory    1011\n",
       "awesome!         280\n",
       "Name: Stock Price, dtype: int64"
      ]
     },
     "execution_count": 120,
     "metadata": {},
     "output_type": "execute_result"
    }
   ],
   "source": [
    "google.apply(eval_stock).value_counts()"
   ]
  },
  {
   "cell_type": "code",
   "execution_count": null,
   "metadata": {},
   "outputs": [],
   "source": [
    "\n"
   ]
  },
  {
   "cell_type": "code",
   "execution_count": null,
   "metadata": {},
   "outputs": [],
   "source": []
  },
  {
   "cell_type": "code",
   "execution_count": null,
   "metadata": {},
   "outputs": [],
   "source": []
  }
 ],
 "metadata": {
  "kernelspec": {
   "display_name": "Python 3",
   "language": "python",
   "name": "python3"
  },
  "language_info": {
   "codemirror_mode": {
    "name": "ipython",
    "version": 3
   },
   "file_extension": ".py",
   "mimetype": "text/x-python",
   "name": "python",
   "nbconvert_exporter": "python",
   "pygments_lexer": "ipython3",
   "version": "3.7.4"
  },
  "varInspector": {
   "cols": {
    "lenName": 16,
    "lenType": 16,
    "lenVar": 40
   },
   "kernels_config": {
    "python": {
     "delete_cmd_postfix": "",
     "delete_cmd_prefix": "del ",
     "library": "var_list.py",
     "varRefreshCmd": "print(var_dic_list())"
    },
    "r": {
     "delete_cmd_postfix": ") ",
     "delete_cmd_prefix": "rm(",
     "library": "var_list.r",
     "varRefreshCmd": "cat(var_dic_list()) "
    }
   },
   "types_to_exclude": [
    "module",
    "function",
    "builtin_function_or_method",
    "instance",
    "_Feature"
   ],
   "window_display": false
  }
 },
 "nbformat": 4,
 "nbformat_minor": 2
}
